{
 "cells": [
  {
   "cell_type": "raw",
   "id": "83454f78-0515-4ef6-88e3-1faebd532c91",
   "metadata": {},
   "source": [
    "---\n",
    "title: \"How to make quarto blog\"\n",
    "author: \"차상진\"\n",
    "date: \"2025-03-28\"\n",
    "---"
   ]
  },
  {
   "cell_type": "markdown",
   "id": "197fa25d-d497-4ff0-8874-324ae5f92efd",
   "metadata": {},
   "source": [
    "# Create Quarto blog"
   ]
  },
  {
   "cell_type": "markdown",
   "id": "1ed60d8e-9e64-42f0-9446-e5bbe79f9f2a",
   "metadata": {},
   "source": [
    "이 포스트에서는 Quarto blog를 만드는 방법이 step by step으로 작성되어 있습니다.\n",
    "\n",
    "mac 사용자와 ssh 서버를 가지고 있는 환경을 기준으로 작성되었으니 참고하시길 바랍니다."
   ]
  },
  {
   "cell_type": "markdown",
   "id": "ebe38695-c341-4369-b37c-aa798ddfb0ab",
   "metadata": {},
   "source": [
    "## 1. Create github repository"
   ]
  },
  {
   "cell_type": "markdown",
   "id": "1429d71b-0b2e-4e5b-88cc-e67f6ba82f03",
   "metadata": {},
   "source": [
    "블로그로 만들고싶은 레포지토리를 생성합니다."
   ]
  },
  {
   "cell_type": "markdown",
   "id": "e21c5eb8-f3e4-4ac8-9e2a-af613abcc081",
   "metadata": {},
   "source": [
    "## 2. 터미널에서 ssh 서버 접속"
   ]
  },
  {
   "cell_type": "markdown",
   "id": "96522658-c463-44f5-921e-b7b670c3e5e1",
   "metadata": {},
   "source": [
    "각자 접속되어있는 ssh 서버에 접속합니다.\n",
    "\n",
    "추가적으로 git도 설치해야하는데 mac 사용자는 기본적으로 git이 설치되어 있습니다."
   ]
  },
  {
   "cell_type": "markdown",
   "id": "5c2a8c27-fccc-4583-b724-cfcd9d68e170",
   "metadata": {},
   "source": [
    "## 3. git clone repository"
   ]
  },
  {
   "cell_type": "markdown",
   "id": "f221cf8b-0c75-4214-89d3-e2c0419687aa",
   "metadata": {},
   "source": [
    "1. 만든 레포지토리를 터미널에서 `git clone <복사된 레포지토리 주소>`"
   ]
  },
  {
   "cell_type": "markdown",
   "id": "b47c02e9-8b1c-4707-bf10-b18549b9d514",
   "metadata": {},
   "source": [
    "2. `cd <레포지토리이름>` 해서 레포지토리 폴더로 들어가기"
   ]
  },
  {
   "cell_type": "markdown",
   "id": "5e9a42f8-71d9-4a17-9105-bca28532cbd0",
   "metadata": {},
   "source": [
    "3. `quarto create -> 엔터 -> blog` 선택 후 엔터"
   ]
  },
  {
   "cell_type": "markdown",
   "id": "961bfff2-77ac-4f2f-bfce-2befc03bac21",
   "metadata": {},
   "source": [
    "4. 많은 파일들이 생겼을텐데 ls 명령어 쳐봐서 파일들이 잘 생겼는지 확인 (`_config.yml`, `index.qmd` 등등...)"
   ]
  },
  {
   "cell_type": "code",
   "execution_count": null,
   "id": "13bcf8f9-617a-48b8-8891-7ec13f5690c9",
   "metadata": {},
   "outputs": [],
   "source": []
  },
  {
   "cell_type": "markdown",
   "id": "0124ada6-98c1-434e-8b29-63ee1da861f9",
   "metadata": {},
   "source": [
    "## 4. 변경사항 update"
   ]
  },
  {
   "cell_type": "markdown",
   "id": "98f17289-e73c-4c19-91af-154ab2bd42b2",
   "metadata": {},
   "source": [
    "1. `git add .`\n",
    "2. `git commit -m .`\n",
    "3. `git push`"
   ]
  },
  {
   "cell_type": "markdown",
   "id": "d706e68a-4041-484b-b762-3b40986f7022",
   "metadata": {},
   "source": [
    "위의 명령어를 순서대로 입력하여 변경사항을 update 한다.\n",
    "\n",
    "그 후 github 레포지토리를 새로고침해보면 파일들이 업데이트된 걸 확인할 수 있다."
   ]
  },
  {
   "cell_type": "markdown",
   "id": "621fc18d-5254-4947-ae77-4b0f4f0d821a",
   "metadata": {},
   "source": [
    "## 5. docs 폴더 생성"
   ]
  },
  {
   "cell_type": "markdown",
   "id": "9cab2cfc-7e8c-45a2-a642-7db720d454f7",
   "metadata": {},
   "source": [
    "`quarto render`"
   ]
  },
  {
   "cell_type": "markdown",
   "id": "9d966e1e-2986-4a21-93d3-dd66fe24a3b8",
   "metadata": {},
   "source": [
    "1. 위의 명령어를 입력하면 docs 폴더가 생성된다."
   ]
  },
  {
   "cell_type": "markdown",
   "id": "2a98dd36-e130-4bc0-b84f-181e0e99280e",
   "metadata": {},
   "source": [
    "## 6. docs 설정 변경"
   ]
  },
  {
   "cell_type": "markdown",
   "id": "4bc14ee2-4352-453f-af5f-b5ab206f8cec",
   "metadata": {},
   "source": [
    "1. `vi _quarto.yml`를 치면 새로운 창으로 들어가지게 된다.\n",
    "2. 들어가서 type 밑줄에다가 `output-dir: docs`를 입력\n",
    "3. `Esc` 누르고 `shift zz` 치면 빠져나와짐 (꼭 동시에 누를 필요는 없음)"
   ]
  },
  {
   "cell_type": "markdown",
   "id": "7e85301f-92db-4ee3-bb30-d085feee88dd",
   "metadata": {},
   "source": [
    "## 7. quarto render"
   ]
  },
  {
   "cell_type": "markdown",
   "id": "b431734e-9233-4a6f-a406-9448ecadc8d1",
   "metadata": {},
   "source": [
    "`Quarto render`"
   ]
  },
  {
   "cell_type": "markdown",
   "id": "0ea7e116-3719-4693-a79f-7596404511eb",
   "metadata": {},
   "source": [
    "위의 명령어를 실행하자."
   ]
  },
  {
   "cell_type": "markdown",
   "id": "442475e0-46ca-4b66-b1c0-9a738d13f9ca",
   "metadata": {},
   "source": [
    "docs 안에 많은 파일들이 생긴다. (`index.html`, `about.html`, `styles.css` 등등..)"
   ]
  },
  {
   "cell_type": "markdown",
   "id": "53ffcf77-94b2-4183-8c7c-a4ad5d35f8e8",
   "metadata": {},
   "source": [
    "## 8. 변경사항 update"
   ]
  },
  {
   "cell_type": "markdown",
   "id": "b8e799c7-1c31-4f6b-8bb5-8b10c20614f2",
   "metadata": {},
   "source": [
    "1. `git add .`\n",
    "2. `git commit -m .`\n",
    "3. `git push`"
   ]
  },
  {
   "cell_type": "markdown",
   "id": "df0f3ccd-4d24-4d29-8296-4014380a8f01",
   "metadata": {},
   "source": [
    "위의 명령어를 순서대로 입력하여 변경사항을 update 한다.\n",
    "\n",
    "그 후 github 레포지토리를 새로고침해보면 파일들이 업데이트된 걸 확인할 수 있다."
   ]
  },
  {
   "cell_type": "markdown",
   "id": "97f55f06-0680-456b-947c-4accb0ed7112",
   "metadata": {},
   "source": [
    "## 9. Setting"
   ]
  },
  {
   "cell_type": "markdown",
   "id": "4ff12ec8-fe88-4988-882d-22ded56261e2",
   "metadata": {},
   "source": [
    "1. 레포지토리에서 setting -> pages\n",
    "2. branch를 main, /docs로 변경 후 save"
   ]
  },
  {
   "cell_type": "markdown",
   "id": "e1d9205a-98bb-4696-99b3-ae7145b086ed",
   "metadata": {},
   "source": [
    "## 10. Done"
   ]
  },
  {
   "cell_type": "markdown",
   "id": "b398ae98-db56-40f4-b1a8-1a51517100bc",
   "metadata": {},
   "source": [
    "다음 포스트에서는 어떻게 파일을 블로그에 올리는지 포스팅하겠다."
   ]
  }
 ],
 "metadata": {
  "kernelspec": {
   "display_name": "Python 3 (ipykernel)",
   "language": "python",
   "name": "python3"
  },
  "language_info": {
   "codemirror_mode": {
    "name": "ipython",
    "version": 3
   },
   "file_extension": ".py",
   "mimetype": "text/x-python",
   "name": "python",
   "nbconvert_exporter": "python",
   "pygments_lexer": "ipython3",
   "version": "3.12.2"
  }
 },
 "nbformat": 4,
 "nbformat_minor": 5
}
