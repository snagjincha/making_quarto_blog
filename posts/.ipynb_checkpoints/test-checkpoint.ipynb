{
 "cells": [
  {
   "cell_type": "raw",
   "id": "83454f78-0515-4ef6-88e3-1faebd532c91",
   "metadata": {},
   "source": [
    "---\n",
    "title: \"test\"\n",
    "author: \"차상진\"\n",
    "date: \"2025-03-28\"\n",
    "---"
   ]
  },
  {
   "cell_type": "code",
   "execution_count": null,
   "id": "db4f6e2c-7ede-4833-a25b-3cfc8ccb9209",
   "metadata": {},
   "outputs": [],
   "source": [
    "Quarto blog 만들기\n",
    "\n",
    "1. 깃헙 레포지토리 만들기\n",
    "2. 터미널에서 ssh 서버 접속\n",
    "3. 만든 레포지토리 git clone\n",
    "4. cd <레포지토리이름> 해서 들어가기\n",
    "5. quarto create -> 엔터 -> blog 선택 후 엔터\n",
    "6. ls 쳐봐서 파일들이 잘 생겼는지 확인\n",
    "7. git add . git commit -m . git push 로 생긴 파일 올리기\n",
    "8. quarto render로 터미널에서 docs 폴더 생성\n",
    "9. vi _quarto.yml 치고 들어가서 type 밑줄에다가 output-dir: docs를 입력\n",
    "10. Esc 누르고 shift zz 치면 빠져나와짐\n",
    "11. Quarto render 쳐줌 docs 안에 많은 폴더들이 생김\n",
    "12. git add . git commit -m . git push 로 생긴 파일 올리기\n",
    "13. Setting -> pages -> docs로 설정 후 save"
   ]
  }
 ],
 "metadata": {
  "kernelspec": {
   "display_name": "Python 3 (ipykernel)",
   "language": "python",
   "name": "python3"
  },
  "language_info": {
   "codemirror_mode": {
    "name": "ipython",
    "version": 3
   },
   "file_extension": ".py",
   "mimetype": "text/x-python",
   "name": "python",
   "nbconvert_exporter": "python",
   "pygments_lexer": "ipython3",
   "version": "3.9.21"
  }
 },
 "nbformat": 4,
 "nbformat_minor": 5
}
