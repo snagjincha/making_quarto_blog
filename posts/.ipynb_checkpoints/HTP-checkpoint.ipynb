{
 "cells": [
  {
   "cell_type": "raw",
   "id": "23e7ea8e-b680-4833-af1a-b1ed727c1dde",
   "metadata": {},
   "source": [
    "---\n",
    "title: \"How to post\"\n",
    "author: \"차상진\"\n",
    "date: \"2025-04-04\"\n",
    "---"
   ]
  },
  {
   "cell_type": "markdown",
   "id": "40d24f98-9e49-4610-9a1f-6b56390b618e",
   "metadata": {},
   "source": [
    "# Posting"
   ]
  },
  {
   "cell_type": "markdown",
   "id": "28ec11f8-c3ed-4241-8bbc-a0b99e4cfcdb",
   "metadata": {},
   "source": [
    "## 1. 본인이 포스팅하길 원하는 자료를 제작한다."
   ]
  },
  {
   "cell_type": "markdown",
   "id": "33afffe9-1204-4b47-88a7-7f8174847083",
   "metadata": {},
   "source": [
    "## 2. Jupyter Notebook을 사용한다면 본인이 포스팅을 원하는 레포지토리 폴더가 있을 것이다.\n",
    "- Jupyter Notebook을 사용하지 않는다면 terminal에 접속하면 본인의 폴더들에 접근하면 된다."
   ]
  },
  {
   "cell_type": "markdown",
   "id": "fc9b3937-3409-4996-b609-b27a2537ab41",
   "metadata": {},
   "source": [
    "## 3. 폴더에 들어가보면 docs 폴더, posts 폴더 이외에도 여러 파일들이 있을 것이다."
   ]
  },
  {
   "cell_type": "markdown",
   "id": "710eb4bf-0b3a-44be-b4a3-d368b6ceae09",
   "metadata": {},
   "source": [
    "## 4. 본인이 포스팅하길 원하는 자료를 posts에 이동시킨다. 그 이후...\n",
    "- Jupyter Notebook 사용자 : terminal에 접속한다. (Jupyter Notebook 터미널도 상관없음)\n",
    "- Jupyter Notebook 미사용자 : 이미 terminal에 접속이 되어있겠지?"
   ]
  },
  {
   "cell_type": "markdown",
   "id": "a70192a8-ecc6-4526-ac3a-9f928f65f3df",
   "metadata": {},
   "source": [
    "## 5. 이제 `quarto render` , `git add .` , `git commit -m .` , `git push` 명령어를 순서대로 치면 된다. 하지만..!"
   ]
  },
  {
   "cell_type": "markdown",
   "id": "c66651bb-0c83-4134-8eb9-5ede2d07025a",
   "metadata": {},
   "source": [
    "그냥 무작정 쳤을 때 운좋으면 되고 운이 좋지 않으면 안되는 상황이 벌어진다... 조금은 이해해야할 부분이 있으니 설명해보겠다\n",
    "\n",
    "- **위의 명령어들을 posts 폴더에 들어간 상태에서 수행하면 안된다**\n",
    "- 3번에서 했던 것 처럼 폴더에 들어갔을 때 docs 폴더, posts 폴더, 등등등이 존재하는 디렉토리에서 명령어를 쳐야한다. 즉, `(base) root@b32cb67a980e:~/<레포지토리 이름>#` 여기서 쳐야한다는 것이다."
   ]
  },
  {
   "cell_type": "markdown",
   "id": "cc345721-57a9-4fe9-89fe-61ca0cd9e94d",
   "metadata": {},
   "source": [
    "## **6. `quarto render`**"
   ]
  },
  {
   "cell_type": "markdown",
   "id": "a92f39ac-7bd4-4934-b896-64b4e5f24db4",
   "metadata": {},
   "source": [
    "docs 폴더 안에 있는 `.html파일`, `styles.css` 등등이 웹페이지를 이루는 파일들이다.\n",
    "\n",
    "즉 docs 폴더 안에 있는 파일들이 변해야 웹페이지가 변한다는 의미이다.\n",
    "\n",
    "그럼 어떻게 docs 폴더의 파일들을 바꾸는가?\n",
    "\n",
    "posts 폴더에 (docs 안에 있는 posts 폴더 말고) 업로드 하고자 하는 파일을 넣고 `quarto render` 명령어를 치면 docs 폴더가 새롭게 바뀌는 것을 알 수 있다."
   ]
  },
  {
   "cell_type": "markdown",
   "id": "00d50879-ba46-4c6a-9264-4e06f217dff0",
   "metadata": {},
   "source": [
    "## 7. docs"
   ]
  },
  {
   "cell_type": "markdown",
   "id": "cd77a265-0156-4d81-9cd8-34532e83df19",
   "metadata": {},
   "source": [
    "docs 폴더가 바뀐 것을 확인했으면 이제 바뀐 정보들을 update 해야한다.\n",
    "\n",
    "update하는 방법은 `git add .`, `git commit -m .`, `git push` 명령어를 수행하면 된다."
   ]
  },
  {
   "cell_type": "markdown",
   "id": "d2a6edad-8afe-4a36-93ff-8c51fb00ede3",
   "metadata": {},
   "source": [
    "## 8. 본인 인증"
   ]
  },
  {
   "cell_type": "markdown",
   "id": "dc603912-2d4f-4746-8d82-cc5f984b9e98",
   "metadata": {},
   "source": [
    "본인의 github 아이디와 token을 요구하는데 작성하면 된다."
   ]
  }
 ],
 "metadata": {
  "kernelspec": {
   "display_name": "Python 3 (ipykernel)",
   "language": "python",
   "name": "python3"
  },
  "language_info": {
   "codemirror_mode": {
    "name": "ipython",
    "version": 3
   },
   "file_extension": ".py",
   "mimetype": "text/x-python",
   "name": "python",
   "nbconvert_exporter": "python",
   "pygments_lexer": "ipython3",
   "version": "3.9.21"
  }
 },
 "nbformat": 4,
 "nbformat_minor": 5
}
